{
 "cells": [
  {
   "cell_type": "code",
   "execution_count": 1,
   "id": "ef7e2775-6874-4edd-9cc2-a71f3c22f7d8",
   "metadata": {},
   "outputs": [
    {
     "name": "stdout",
     "output_type": "stream",
     "text": [
      "Requirement already satisfied: google-api-python-client in c:\\user\\ivan tai\\anaconda3\\lib\\site-packages (2.149.0)\n",
      "Requirement already satisfied: httplib2<1.dev0,>=0.19.0 in c:\\user\\ivan tai\\anaconda3\\lib\\site-packages (from google-api-python-client) (0.22.0)\n",
      "Requirement already satisfied: google-auth!=2.24.0,!=2.25.0,<3.0.0.dev0,>=1.32.0 in c:\\user\\ivan tai\\anaconda3\\lib\\site-packages (from google-api-python-client) (2.29.0)\n",
      "Requirement already satisfied: google-auth-httplib2<1.0.0,>=0.2.0 in c:\\user\\ivan tai\\anaconda3\\lib\\site-packages (from google-api-python-client) (0.2.0)\n",
      "Requirement already satisfied: google-api-core!=2.0.*,!=2.1.*,!=2.2.*,!=2.3.0,<3.0.0.dev0,>=1.31.5 in c:\\user\\ivan tai\\anaconda3\\lib\\site-packages (from google-api-python-client) (2.10.1)\n",
      "Requirement already satisfied: uritemplate<5,>=3.0.1 in c:\\user\\ivan tai\\anaconda3\\lib\\site-packages (from google-api-python-client) (4.1.1)\n",
      "Requirement already satisfied: googleapis-common-protos<2.0dev,>=1.56.2 in c:\\user\\ivan tai\\anaconda3\\lib\\site-packages (from google-api-core!=2.0.*,!=2.1.*,!=2.2.*,!=2.3.0,<3.0.0.dev0,>=1.31.5->google-api-python-client) (1.63.2)\n",
      "Requirement already satisfied: protobuf<5.0.0dev,>=3.20.1 in c:\\user\\ivan tai\\anaconda3\\lib\\site-packages (from google-api-core!=2.0.*,!=2.1.*,!=2.2.*,!=2.3.0,<3.0.0.dev0,>=1.31.5->google-api-python-client) (3.20.3)\n",
      "Requirement already satisfied: requests<3.0.0dev,>=2.18.0 in c:\\user\\ivan tai\\anaconda3\\lib\\site-packages (from google-api-core!=2.0.*,!=2.1.*,!=2.2.*,!=2.3.0,<3.0.0.dev0,>=1.31.5->google-api-python-client) (2.31.0)\n",
      "Requirement already satisfied: cachetools<6.0,>=2.0.0 in c:\\user\\ivan tai\\anaconda3\\lib\\site-packages (from google-auth!=2.24.0,!=2.25.0,<3.0.0.dev0,>=1.32.0->google-api-python-client) (4.2.2)\n",
      "Requirement already satisfied: pyasn1-modules>=0.2.1 in c:\\user\\ivan tai\\anaconda3\\lib\\site-packages (from google-auth!=2.24.0,!=2.25.0,<3.0.0.dev0,>=1.32.0->google-api-python-client) (0.2.8)\n",
      "Requirement already satisfied: rsa<5,>=3.1.4 in c:\\user\\ivan tai\\anaconda3\\lib\\site-packages (from google-auth!=2.24.0,!=2.25.0,<3.0.0.dev0,>=1.32.0->google-api-python-client) (4.7.2)\n",
      "Requirement already satisfied: pyparsing!=3.0.0,!=3.0.1,!=3.0.2,!=3.0.3,<4,>=2.4.2 in c:\\user\\ivan tai\\anaconda3\\lib\\site-packages (from httplib2<1.dev0,>=0.19.0->google-api-python-client) (3.0.9)\n",
      "Requirement already satisfied: pyasn1<0.5.0,>=0.4.6 in c:\\user\\ivan tai\\anaconda3\\lib\\site-packages (from pyasn1-modules>=0.2.1->google-auth!=2.24.0,!=2.25.0,<3.0.0.dev0,>=1.32.0->google-api-python-client) (0.4.8)\n",
      "Requirement already satisfied: charset-normalizer<4,>=2 in c:\\user\\ivan tai\\anaconda3\\lib\\site-packages (from requests<3.0.0dev,>=2.18.0->google-api-core!=2.0.*,!=2.1.*,!=2.2.*,!=2.3.0,<3.0.0.dev0,>=1.31.5->google-api-python-client) (2.0.4)\n",
      "Requirement already satisfied: idna<4,>=2.5 in c:\\user\\ivan tai\\anaconda3\\lib\\site-packages (from requests<3.0.0dev,>=2.18.0->google-api-core!=2.0.*,!=2.1.*,!=2.2.*,!=2.3.0,<3.0.0.dev0,>=1.31.5->google-api-python-client) (3.4)\n",
      "Requirement already satisfied: urllib3<3,>=1.21.1 in c:\\user\\ivan tai\\anaconda3\\lib\\site-packages (from requests<3.0.0dev,>=2.18.0->google-api-core!=2.0.*,!=2.1.*,!=2.2.*,!=2.3.0,<3.0.0.dev0,>=1.31.5->google-api-python-client) (2.0.7)\n",
      "Requirement already satisfied: certifi>=2017.4.17 in c:\\user\\ivan tai\\anaconda3\\lib\\site-packages (from requests<3.0.0dev,>=2.18.0->google-api-core!=2.0.*,!=2.1.*,!=2.2.*,!=2.3.0,<3.0.0.dev0,>=1.31.5->google-api-python-client) (2024.8.30)\n"
     ]
    }
   ],
   "source": [
    "!pip install google-api-python-client"
   ]
  },
  {
   "cell_type": "code",
   "execution_count": 2,
   "id": "72efc8de-3958-4b1d-93d3-b4bef060e5d4",
   "metadata": {},
   "outputs": [
    {
     "name": "stdout",
     "output_type": "stream",
     "text": [
      "Requirement already satisfied: google-api-python-client in c:\\user\\ivan tai\\anaconda3\\lib\\site-packages (2.149.0)\n",
      "Requirement already satisfied: httplib2<1.dev0,>=0.19.0 in c:\\user\\ivan tai\\anaconda3\\lib\\site-packages (from google-api-python-client) (0.22.0)\n",
      "Requirement already satisfied: google-auth!=2.24.0,!=2.25.0,<3.0.0.dev0,>=1.32.0 in c:\\user\\ivan tai\\anaconda3\\lib\\site-packages (from google-api-python-client) (2.29.0)\n",
      "Requirement already satisfied: google-auth-httplib2<1.0.0,>=0.2.0 in c:\\user\\ivan tai\\anaconda3\\lib\\site-packages (from google-api-python-client) (0.2.0)\n",
      "Requirement already satisfied: google-api-core!=2.0.*,!=2.1.*,!=2.2.*,!=2.3.0,<3.0.0.dev0,>=1.31.5 in c:\\user\\ivan tai\\anaconda3\\lib\\site-packages (from google-api-python-client) (2.10.1)\n",
      "Requirement already satisfied: uritemplate<5,>=3.0.1 in c:\\user\\ivan tai\\anaconda3\\lib\\site-packages (from google-api-python-client) (4.1.1)\n",
      "Requirement already satisfied: googleapis-common-protos<2.0dev,>=1.56.2 in c:\\user\\ivan tai\\anaconda3\\lib\\site-packages (from google-api-core!=2.0.*,!=2.1.*,!=2.2.*,!=2.3.0,<3.0.0.dev0,>=1.31.5->google-api-python-client) (1.63.2)\n",
      "Requirement already satisfied: protobuf<5.0.0dev,>=3.20.1 in c:\\user\\ivan tai\\anaconda3\\lib\\site-packages (from google-api-core!=2.0.*,!=2.1.*,!=2.2.*,!=2.3.0,<3.0.0.dev0,>=1.31.5->google-api-python-client) (3.20.3)\n",
      "Requirement already satisfied: requests<3.0.0dev,>=2.18.0 in c:\\user\\ivan tai\\anaconda3\\lib\\site-packages (from google-api-core!=2.0.*,!=2.1.*,!=2.2.*,!=2.3.0,<3.0.0.dev0,>=1.31.5->google-api-python-client) (2.31.0)\n",
      "Requirement already satisfied: cachetools<6.0,>=2.0.0 in c:\\user\\ivan tai\\anaconda3\\lib\\site-packages (from google-auth!=2.24.0,!=2.25.0,<3.0.0.dev0,>=1.32.0->google-api-python-client) (4.2.2)\n",
      "Requirement already satisfied: pyasn1-modules>=0.2.1 in c:\\user\\ivan tai\\anaconda3\\lib\\site-packages (from google-auth!=2.24.0,!=2.25.0,<3.0.0.dev0,>=1.32.0->google-api-python-client) (0.2.8)\n",
      "Requirement already satisfied: rsa<5,>=3.1.4 in c:\\user\\ivan tai\\anaconda3\\lib\\site-packages (from google-auth!=2.24.0,!=2.25.0,<3.0.0.dev0,>=1.32.0->google-api-python-client) (4.7.2)\n",
      "Requirement already satisfied: pyparsing!=3.0.0,!=3.0.1,!=3.0.2,!=3.0.3,<4,>=2.4.2 in c:\\user\\ivan tai\\anaconda3\\lib\\site-packages (from httplib2<1.dev0,>=0.19.0->google-api-python-client) (3.0.9)\n",
      "Requirement already satisfied: pyasn1<0.5.0,>=0.4.6 in c:\\user\\ivan tai\\anaconda3\\lib\\site-packages (from pyasn1-modules>=0.2.1->google-auth!=2.24.0,!=2.25.0,<3.0.0.dev0,>=1.32.0->google-api-python-client) (0.4.8)\n",
      "Requirement already satisfied: charset-normalizer<4,>=2 in c:\\user\\ivan tai\\anaconda3\\lib\\site-packages (from requests<3.0.0dev,>=2.18.0->google-api-core!=2.0.*,!=2.1.*,!=2.2.*,!=2.3.0,<3.0.0.dev0,>=1.31.5->google-api-python-client) (2.0.4)\n",
      "Requirement already satisfied: idna<4,>=2.5 in c:\\user\\ivan tai\\anaconda3\\lib\\site-packages (from requests<3.0.0dev,>=2.18.0->google-api-core!=2.0.*,!=2.1.*,!=2.2.*,!=2.3.0,<3.0.0.dev0,>=1.31.5->google-api-python-client) (3.4)\n",
      "Requirement already satisfied: urllib3<3,>=1.21.1 in c:\\user\\ivan tai\\anaconda3\\lib\\site-packages (from requests<3.0.0dev,>=2.18.0->google-api-core!=2.0.*,!=2.1.*,!=2.2.*,!=2.3.0,<3.0.0.dev0,>=1.31.5->google-api-python-client) (2.0.7)\n",
      "Requirement already satisfied: certifi>=2017.4.17 in c:\\user\\ivan tai\\anaconda3\\lib\\site-packages (from requests<3.0.0dev,>=2.18.0->google-api-core!=2.0.*,!=2.1.*,!=2.2.*,!=2.3.0,<3.0.0.dev0,>=1.31.5->google-api-python-client) (2024.8.30)\n"
     ]
    }
   ],
   "source": [
    "!pip install google-api-python-client"
   ]
  },
  {
   "cell_type": "code",
   "execution_count": 3,
   "id": "f193dd42-8118-4ab5-8996-9caaa2c5dfe0",
   "metadata": {},
   "outputs": [
    {
     "name": "stdout",
     "output_type": "stream",
     "text": [
      "Requirement already satisfied: langdetect in c:\\user\\ivan tai\\anaconda3\\lib\\site-packages (1.0.9)\n",
      "Requirement already satisfied: six in c:\\user\\ivan tai\\anaconda3\\lib\\site-packages (from langdetect) (1.16.0)\n",
      "Note: you may need to restart the kernel to use updated packages.\n"
     ]
    }
   ],
   "source": [
    "pip install langdetect"
   ]
  },
  {
   "cell_type": "code",
   "execution_count": 4,
   "id": "5005ead9-082f-4432-afec-9b4196824f59",
   "metadata": {},
   "outputs": [
    {
     "name": "stdout",
     "output_type": "stream",
     "text": [
      "Requirement already satisfied: pytube in c:\\user\\ivan tai\\anaconda3\\lib\\site-packages (15.0.0)\n",
      "Note: you may need to restart the kernel to use updated packages.\n"
     ]
    }
   ],
   "source": [
    "pip install pytube"
   ]
  },
  {
   "cell_type": "code",
   "execution_count": 5,
   "id": "d07b70a3-1408-477c-9860-6a17b15a7b2e",
   "metadata": {
    "scrolled": true
   },
   "outputs": [
    {
     "name": "stdout",
     "output_type": "stream",
     "text": [
      "Requirement already satisfied: google-auth-oauthlib in c:\\user\\ivan tai\\anaconda3\\lib\\site-packages (1.2.1)\n",
      "Requirement already satisfied: google-auth-httplib2 in c:\\user\\ivan tai\\anaconda3\\lib\\site-packages (0.2.0)\n",
      "Requirement already satisfied: google-auth>=2.15.0 in c:\\user\\ivan tai\\anaconda3\\lib\\site-packages (from google-auth-oauthlib) (2.29.0)\n",
      "Requirement already satisfied: requests-oauthlib>=0.7.0 in c:\\user\\ivan tai\\anaconda3\\lib\\site-packages (from google-auth-oauthlib) (2.0.0)\n",
      "Requirement already satisfied: httplib2>=0.19.0 in c:\\user\\ivan tai\\anaconda3\\lib\\site-packages (from google-auth-httplib2) (0.22.0)\n",
      "Requirement already satisfied: cachetools<6.0,>=2.0.0 in c:\\user\\ivan tai\\anaconda3\\lib\\site-packages (from google-auth>=2.15.0->google-auth-oauthlib) (4.2.2)\n",
      "Requirement already satisfied: pyasn1-modules>=0.2.1 in c:\\user\\ivan tai\\anaconda3\\lib\\site-packages (from google-auth>=2.15.0->google-auth-oauthlib) (0.2.8)\n",
      "Requirement already satisfied: rsa<5,>=3.1.4 in c:\\user\\ivan tai\\anaconda3\\lib\\site-packages (from google-auth>=2.15.0->google-auth-oauthlib) (4.7.2)\n",
      "Requirement already satisfied: pyparsing!=3.0.0,!=3.0.1,!=3.0.2,!=3.0.3,<4,>=2.4.2 in c:\\user\\ivan tai\\anaconda3\\lib\\site-packages (from httplib2>=0.19.0->google-auth-httplib2) (3.0.9)\n",
      "Requirement already satisfied: oauthlib>=3.0.0 in c:\\user\\ivan tai\\anaconda3\\lib\\site-packages (from requests-oauthlib>=0.7.0->google-auth-oauthlib) (3.2.2)\n",
      "Requirement already satisfied: requests>=2.0.0 in c:\\user\\ivan tai\\anaconda3\\lib\\site-packages (from requests-oauthlib>=0.7.0->google-auth-oauthlib) (2.31.0)\n",
      "Requirement already satisfied: pyasn1<0.5.0,>=0.4.6 in c:\\user\\ivan tai\\anaconda3\\lib\\site-packages (from pyasn1-modules>=0.2.1->google-auth>=2.15.0->google-auth-oauthlib) (0.4.8)\n",
      "Requirement already satisfied: charset-normalizer<4,>=2 in c:\\user\\ivan tai\\anaconda3\\lib\\site-packages (from requests>=2.0.0->requests-oauthlib>=0.7.0->google-auth-oauthlib) (2.0.4)\n",
      "Requirement already satisfied: idna<4,>=2.5 in c:\\user\\ivan tai\\anaconda3\\lib\\site-packages (from requests>=2.0.0->requests-oauthlib>=0.7.0->google-auth-oauthlib) (3.4)\n",
      "Requirement already satisfied: urllib3<3,>=1.21.1 in c:\\user\\ivan tai\\anaconda3\\lib\\site-packages (from requests>=2.0.0->requests-oauthlib>=0.7.0->google-auth-oauthlib) (2.0.7)\n",
      "Requirement already satisfied: certifi>=2017.4.17 in c:\\user\\ivan tai\\anaconda3\\lib\\site-packages (from requests>=2.0.0->requests-oauthlib>=0.7.0->google-auth-oauthlib) (2024.8.30)\n",
      "Note: you may need to restart the kernel to use updated packages.\n"
     ]
    }
   ],
   "source": [
    "pip install --upgrade google-auth-oauthlib google-auth-httplib2"
   ]
  },
  {
   "cell_type": "code",
   "execution_count": 6,
   "id": "b7df8d8c-1ba6-414f-8899-cd42bc7ec8cd",
   "metadata": {},
   "outputs": [
    {
     "name": "stdout",
     "output_type": "stream",
     "text": [
      "Requirement already satisfied: emoji==1.7 in c:\\user\\ivan tai\\anaconda3\\lib\\site-packages (1.7.0)\n",
      "Note: you may need to restart the kernel to use updated packages.\n"
     ]
    }
   ],
   "source": [
    "pip install emoji==1.7"
   ]
  },
  {
   "cell_type": "code",
   "execution_count": 7,
   "id": "6fa93e8a-0e25-4197-86fc-176e3052d865",
   "metadata": {},
   "outputs": [
    {
     "name": "stdout",
     "output_type": "stream",
     "text": [
      "Requirement already satisfied: text2emotion in c:\\user\\ivan tai\\anaconda3\\lib\\site-packages (0.0.5)Note: you may need to restart the kernel to use updated packages.\n",
      "\n",
      "Requirement already satisfied: nltk in c:\\user\\ivan tai\\anaconda3\\lib\\site-packages (from text2emotion) (3.8.1)\n",
      "Requirement already satisfied: emoji>=0.6.0 in c:\\user\\ivan tai\\anaconda3\\lib\\site-packages (from text2emotion) (1.7.0)\n",
      "Requirement already satisfied: click in c:\\user\\ivan tai\\anaconda3\\lib\\site-packages (from nltk->text2emotion) (8.1.7)\n",
      "Requirement already satisfied: joblib in c:\\user\\ivan tai\\anaconda3\\lib\\site-packages (from nltk->text2emotion) (1.2.0)\n",
      "Requirement already satisfied: regex>=2021.8.3 in c:\\user\\ivan tai\\anaconda3\\lib\\site-packages (from nltk->text2emotion) (2023.10.3)\n",
      "Requirement already satisfied: tqdm in c:\\user\\ivan tai\\anaconda3\\lib\\site-packages (from nltk->text2emotion) (4.65.0)\n",
      "Requirement already satisfied: colorama in c:\\user\\ivan tai\\anaconda3\\lib\\site-packages (from click->nltk->text2emotion) (0.4.6)\n"
     ]
    }
   ],
   "source": [
    "pip install text2emotion"
   ]
  },
  {
   "cell_type": "code",
   "execution_count": 8,
   "id": "22c0ba3d-e2a3-4928-a1c8-3a58344876ea",
   "metadata": {},
   "outputs": [
    {
     "name": "stderr",
     "output_type": "stream",
     "text": [
      "[nltk_data] Downloading package stopwords to C:\\Users\\Ivan\n",
      "[nltk_data]     Tai\\AppData\\Roaming\\nltk_data...\n",
      "[nltk_data]   Package stopwords is already up-to-date!\n",
      "[nltk_data] Downloading package punkt to C:\\Users\\Ivan\n",
      "[nltk_data]     Tai\\AppData\\Roaming\\nltk_data...\n",
      "[nltk_data]   Package punkt is already up-to-date!\n",
      "[nltk_data] Downloading package wordnet to C:\\Users\\Ivan\n",
      "[nltk_data]     Tai\\AppData\\Roaming\\nltk_data...\n",
      "[nltk_data]   Package wordnet is already up-to-date!\n"
     ]
    }
   ],
   "source": [
    "import pandas as pd\n",
    "from googleapiclient.discovery import build\n",
    "import numpy as np\n",
    "from pytube import Playlist,extract\n",
    "from nltk.sentiment.vader import SentimentIntensityAnalyzer\n",
    "import statistics\n",
    "from langdetect import detect\n",
    "import emoji\n",
    "import text2emotion as te\n",
    "import re\n",
    "import datetime as datetime"
   ]
  },
  {
   "cell_type": "code",
   "execution_count": 9,
   "id": "7ebd8470-7a3d-48a8-b281-649fbe00c2ab",
   "metadata": {},
   "outputs": [],
   "source": [
    "#https://www.youtube.com/watch?v=SwSbnmqk3zY"
   ]
  },
  {
   "cell_type": "code",
   "execution_count": 10,
   "id": "71d40405-4c9f-4a25-878c-390e8fbc89cc",
   "metadata": {},
   "outputs": [],
   "source": [
    "youtube=build(\"youtube\",\"v3\",developerKey=api_key)"
   ]
  },
  {
   "cell_type": "code",
   "execution_count": null,
   "id": "7d00f3a0-1509-421b-ad86-8a694ba69520",
   "metadata": {},
   "outputs": [],
   "source": [
    "secrets_filename = 'secret_keys'\n",
    "api_keys = {}\n",
    "with open(secrets_filename, 'r') as f:\n",
    "    api_keys = json.loads(f.read())"
   ]
  },
  {
   "cell_type": "code",
   "execution_count": 11,
   "id": "1e0ca4b9-ad98-4595-8e19-b74889e56d20",
   "metadata": {
    "scrolled": true
   },
   "outputs": [],
   "source": [
    "# Generate list of video_url from playlist\n",
    "def video_id_list(url=\"https://www.youtube.com/watch?v=Jkj36B1YuDU&list=PL3-sRm8xAzY-w9GS19pLXMyFRTuJcuUjy\",N=100):\n",
    "    url_list=Playlist(url)\n",
    "    url_list=url_list.video_urls\n",
    "    video_id_list=[]\n",
    "    for n in range(0,N):\n",
    "        video_id=extract.video_id(url_list[n])\n",
    "        video_id_list.append(video_id)\n",
    "    video_id_list=np.array(video_id_list)\n",
    "    return video_id_list "
   ]
  },
  {
   "cell_type": "code",
   "execution_count": 12,
   "id": "1bd0d4bc-7a70-419e-8eda-8307bfa2d892",
   "metadata": {},
   "outputs": [],
   "source": [
    "#create object singer\n",
    "singer=video_id_list()\n"
   ]
  },
  {
   "cell_type": "code",
   "execution_count": 13,
   "id": "ed4b06cf-fd1b-4c3f-b722-94d6b6672a3d",
   "metadata": {},
   "outputs": [],
   "source": [
    "# test the presence of video\n",
    "def test_video():\n",
    "    items_list=[]\n",
    "    for video in singer:\n",
    "        request = youtube.videos().list(part=\"statisitcs\",id=video)\n",
    "        response= request.execute()\n",
    "        try:\n",
    "           items=response[\"items\"][0][\"statistics\"][\"commentCount\"]\n",
    "           items=True \n",
    "        except:\n",
    "            items=False\n",
    "            break\n",
    "        items_list.append(items)\n",
    "        \n",
    "    return list(enumerate(items_list))\n",
    "\n"
   ]
  },
  {
   "cell_type": "code",
   "execution_count": 14,
   "id": "6904964d-0e27-4144-bd72-bf09c5771733",
   "metadata": {},
   "outputs": [],
   "source": [
    "# collect information of song\n",
    "def sad_song_information(playlist=singer):\n",
    "    df_information=pd.DataFrame(columns=[\"title\",\"id\",\"channel_title\",\"date\"])\n",
    "    for video in playlist:\n",
    "        request = youtube.videos().list(part=\"snippet\",id=video)\n",
    "        response= request.execute()\n",
    "        items=response[\"items\"][0]\n",
    "        id=items[\"id\"]\n",
    "        snippet=items[\"snippet\"]\n",
    "        title=snippet[\"title\"]\n",
    "        channel_title=snippet['channelTitle']\n",
    "        date=snippet[\"publishedAt\"]\n",
    "        dict={\"title\":title,\"id\":id,\"channel_title\":channel_title,\"date\":date}\n",
    "        df=pd.DataFrame(dict,index=[0])\n",
    "        df_information=pd.concat([df_information,df],ignore_index=True)\n",
    "    return df_information"
   ]
  },
  {
   "cell_type": "code",
   "execution_count": 15,
   "id": "e54f0a5b-8952-4e9e-b10c-b29b92e7b3a4",
   "metadata": {
    "scrolled": true
   },
   "outputs": [],
   "source": [
    "# collect information of rock_song\n",
    "def sad_song_statistics(playlist=singer):\n",
    "    df_statistics=pd.DataFrame(columns=[\"viewCount\",\"likeCount\",\"commentCount\"])\n",
    "    for video in playlist:\n",
    "        request = youtube.videos().list(part=\"statistics\",id=video)\n",
    "        response= request.execute()\n",
    "        statistics=response[\"items\"][0][\"statistics\"]\n",
    "        viewCount=statistics[\"viewCount\"]\n",
    "        try:\n",
    "            likeCount=statistics[\"likeCount\"]\n",
    "        except:\n",
    "            likeCount=\"NaN\"\n",
    "        try:\n",
    "            commentCount=statistics[\"commentCount\"]\n",
    "        except:\n",
    "            commentCount=\"NaN\"\n",
    "        dict={\"viewCount\":viewCount,\"likeCount\":likeCount,\"commentCount\":commentCount}\n",
    "        df=pd.DataFrame(dict,index=[0])\n",
    "        df_statistics=pd.concat([df_statistics,df],ignore_index=True)\n",
    "    return df_statistics    \n",
    "        "
   ]
  },
  {
   "cell_type": "code",
   "execution_count": 29,
   "id": "2c4f0988-0f6a-401b-92eb-4b8b3c44ab50",
   "metadata": {},
   "outputs": [],
   "source": [
    "# merge the two dataframe\n",
    "def merge():\n",
    "    df_stat=sad_song_statistics()\n",
    "    df_info=sad_song_information()\n",
    "    for column in df_stat.columns:\n",
    "        df_info[column]=df_stat[column]\n",
    "    return df_info\n"
   ]
  },
  {
   "cell_type": "code",
   "execution_count": 30,
   "id": "b3cf0784-c87e-4793-9125-5dc47397b096",
   "metadata": {},
   "outputs": [],
   "source": [
    "df_sad_song=merge()"
   ]
  },
  {
   "cell_type": "code",
   "execution_count": 31,
   "id": "04e18958-99ee-4b84-a648-3e0f012d2dff",
   "metadata": {
    "scrolled": true
   },
   "outputs": [
    {
     "data": {
      "text/plain": [
       "['Tom Odell - Another Love (Lyrics)',\n",
       " 'Benson Boone - Beautiful Things (Official Music Video)',\n",
       " 'James Arthur - Train Wreck (Lyrics)',\n",
       " 'd4vd - Here With Me (Official Audio)',\n",
       " 'Miley Cyrus - Used To Be Young (Official Video)',\n",
       " 'Sam Smith - Fire On Fire (From \"Watership Down\")',\n",
       " 'Billie Eilish - WILDFLOWER (Lyrics)',\n",
       " 'Lady Gaga, Bruno Mars - Die With A Smile (Official Music Video)',\n",
       " 'Billie Eilish - What Was I Made For? (Official Music Video)',\n",
       " \"James Arthur - Car's Outside (Lyrics)\",\n",
       " 'Paloma Faith - Only Love Can Hurt Like This (Lyrics)',\n",
       " 'Miley Cyrus - Angels Like You (Lyrics)',\n",
       " 'Alan Walker, Emma Steinbakken - Not You (Lyrics)',\n",
       " 'Lewis Capaldi - Wish You The Best (Official Video)',\n",
       " 'Libianca - People (Official Video)',\n",
       " \"Shawn Mendes - It'll Be Okay\",\n",
       " 'The Weeknd - DIE FOR YOU (Lyrics)',\n",
       " 'Darin - Fade Away (Music Video)',\n",
       " 'Jaymes Young - Happiest Year (Lyric Video)',\n",
       " 'Dean Lewis - How Do I Say Goodbye (Official Video)',\n",
       " \"Cian Ducrot - I'll Be Waiting (Official Lyric Video)\",\n",
       " 'Adele - Easy On Me (Official Lyric Video)',\n",
       " 'd4vd - Romantic Homicide (Lyrics)',\n",
       " 'Alex Sampson - Pretty Baby (Official Music Video)',\n",
       " 'Lizzy McAlpine - ceilings (official video)',\n",
       " 'Darin - I Lost You (Lyric Video)',\n",
       " 'this is what losing someone feels like (official video)',\n",
       " 'Duncan Laurence - Arcade (Lyrics) ft. FLETCHER',\n",
       " 'SZA - Nobody Gets Me (Lyric Video)',\n",
       " \"Omar Apollo - Evergreen (You Didn't Deserve Me At All) [Official Lyric Video]\",\n",
       " 'New West - Those Eyes (Lyrics)',\n",
       " 'Alexander Stewart - i wish you cheated (Official Video)',\n",
       " 'Måneskin - THE LONELIEST (Official Audio with lyrics)',\n",
       " 'Lauren Spencer-Smith - Fingers Crossed (Lyrics)',\n",
       " 'Lady Gaga - Hold My Hand (From “Top Gun: Maverick”) [Official Music Video]',\n",
       " 'Shaboozey - My Fault (Official Visualizer) ft. Noah Cyrus',\n",
       " 'JVKE - golden hour (Official Lyric Video)',\n",
       " 'Ed Sheeran - Boat [Official Video]',\n",
       " 'Sam Smith - Love Me More (Official Music Video)',\n",
       " 'Henry Moodie - you were there for me (Lyric Video)',\n",
       " 'Ali Gatie - Perfect (Official Lyric Video)',\n",
       " 'The Weeknd - Is There Someone Else? (Audio)',\n",
       " 'AURORA - Runaway (Lyrics)',\n",
       " 'Sarah Cothran - As The World Caves In (Lyrics)',\n",
       " 'Calum Scott - If You Ever Change Your Mind',\n",
       " 'Coldplay X Selena Gomez - Let Somebody Go (Official Video)',\n",
       " 'Ed Sheeran - The Joker And The Queen (feat. Taylor Swift) [Official Video]',\n",
       " 'Madison Beer - Reckless (Official Music Video)',\n",
       " 'Taylor Swift - Enchanted (Lyrics) \"Please don\\'t be in love with someone else\"',\n",
       " 'Bruno Mars - Talking To The Moon (Official Lyric Video)',\n",
       " 'Tate McRae - feel like shit (Lyrics)',\n",
       " 'Olivia Rodrigo – drivers license (Lyrics)',\n",
       " 'FINNEAS - Break My Heart Again (Official Video)',\n",
       " 'Benson Boone - Ghost Town (Official Music Video)',\n",
       " 'Clinton Kane - I GUESS I’M IN LOVE (Lyrics)',\n",
       " 'Joji - Die For You',\n",
       " 'Rihanna - Lift Me Up (From Black Panther: Wakanda Forever)',\n",
       " 'Stephen Dawes - Teenage Dream (Lyric Video)',\n",
       " 'Loreen - Tattoo (Official Lyric Video)',\n",
       " 'Justin Bieber & benny blanco - Lonely (Lyrics)',\n",
       " 'Faouzia & John Legend - Minefields (Lyrics)',\n",
       " \"Jamie Miller - Here's Your Perfect (with salem ilese) [Official Music Video]\",\n",
       " 'dhruv - double take (lyrics)',\n",
       " 'Miley Cyrus - Flowers (Demo) Official Audio',\n",
       " 'Alexander Stewart – Leave Me in the Dark (Official Music Video)',\n",
       " 'Powfu - Death Bed (Lyrics) \"dont stay away for too long\"',\n",
       " 'Tate McRae - you broke me first (Lyrics)',\n",
       " 'Olivia Rodrigo - deja vu (Lyrics)',\n",
       " 'Chloe George - Ghost Town (Lyrics) (TikTok cover) and nothing hurts anymore i feel kinda free',\n",
       " 'Billie Eilish - i love you (Lyrics)',\n",
       " \"Labrinth & Zendaya - I'm Tired (From “Euphoria” An HBO Original Series – Lyric Video)\",\n",
       " 'Keenan Te - Scars (Lyric Video)',\n",
       " 'Witt Lowry - Into Your Arms (Lyrics) ft. Ava Max - [No Rap]',\n",
       " 'Zoe Wees - Control (Official Video)',\n",
       " 'Billie Eilish - Happier Than Ever',\n",
       " 'Sia - Courage To Change (from the motion picture Music)',\n",
       " 'Conan Gray - Heather (Lyrics)',\n",
       " 'Astrid S - Hurts So Good (Lyric Video)',\n",
       " 'Nea - Some Say (Lyrics)',\n",
       " 'Sia - Unstoppable (Lyrics)',\n",
       " 'Lewis Capaldi - Before You Go (Official Video)',\n",
       " 'Shawn Mendes, Justin Bieber - Monster',\n",
       " 'Alan Walker x salem ilese - Fake A Smile (Lyrics)',\n",
       " 'jeremy zucker & chelsea cutler - you were good to me // lyrics',\n",
       " 'Madison Beer - Selfish (Official Music Video)',\n",
       " 'Sam Fischer - This City (Official Video)',\n",
       " 'Joji - SLOW DANCING IN THE DARK',\n",
       " 'Maroon 5 - Memories (Official Video)',\n",
       " 'Bon Iver & St. Vincent - Roslyn (Lyrics)',\n",
       " 'Andra Day - Rise Up [Official Music Video] [Inspiration Version]',\n",
       " 'Selena Gomez - Lose You To Love Me (Official Music Video)',\n",
       " 'Sasha Alex Sloan - Dancing With Your Ghost (Lyric Video)',\n",
       " 'Taylor Swift - Lover (Official Music Video)',\n",
       " 'Alec Benjamin - Let Me Down Slowly (Lyrics)',\n",
       " \"Ali Gatie - It's You (Official Lyrics Video)\",\n",
       " 'Billie Eilish - everything i wanted (Official Audio)',\n",
       " 'Imagine Dragons - Birds (Animated Video)',\n",
       " 'Miley Cyrus - Slide Away (Official Video)',\n",
       " 'Lady Gaga, Bradley Cooper - Shallow (from A Star Is Born) (Official Music Video)',\n",
       " 'Dermot Kennedy - Outnumbered (Official Music Video)']"
      ]
     },
     "execution_count": 31,
     "metadata": {},
     "output_type": "execute_result"
    }
   ],
   "source": [
    "df_sad_song[\"title\"].tolist()\n",
    "#the general pattern of title is \"song_name/musician\"-\"musician\""
   ]
  },
  {
   "cell_type": "code",
   "execution_count": 32,
   "id": "c31c1e9a-9dd3-4a2c-be76-8868200b61f3",
   "metadata": {},
   "outputs": [],
   "source": [
    "# create musician name from channel_title by covering all possible regex pattern\n",
    "df_sad_song[\"musician\"]=df_sad_song[\"title\"].str.extract(\"(.*)-\")\n",
    "df_sad_song[\"musician2\"]=df_sad_song[\"title\"].str.extract(\"(.*)–\")\n",
    "df_sad_song[\"musician\"]=df_sad_song[\"musician\"].fillna(df_sad_song[\"musician2\"])\n",
    "df_sad_song=df_sad_song.drop(\"musician2\",axis=1)"
   ]
  },
  {
   "cell_type": "code",
   "execution_count": 33,
   "id": "fa335227-ebd3-482b-81c7-75551f003d39",
   "metadata": {
    "scrolled": true
   },
   "outputs": [
    {
     "data": {
      "text/plain": [
       "[' Another Love (Lyrics)',\n",
       " ' Beautiful Things (Official Music Video)',\n",
       " ' Train Wreck (Lyrics)',\n",
       " ' Here With Me (Official Audio)',\n",
       " ' Used To Be Young (Official Video)',\n",
       " ' Fire On Fire (From \"Watership Down\")',\n",
       " ' WILDFLOWER (Lyrics)',\n",
       " ' Die With A Smile (Official Music Video)',\n",
       " ' What Was I Made For? (Official Music Video)',\n",
       " \" Car's Outside (Lyrics)\",\n",
       " ' Only Love Can Hurt Like This (Lyrics)',\n",
       " ' Angels Like You (Lyrics)',\n",
       " ' Not You (Lyrics)',\n",
       " ' Wish You The Best (Official Video)',\n",
       " ' People (Official Video)',\n",
       " \" It'll Be Okay\",\n",
       " ' DIE FOR YOU (Lyrics)',\n",
       " ' Fade Away (Music Video)',\n",
       " ' Happiest Year (Lyric Video)',\n",
       " ' How Do I Say Goodbye (Official Video)',\n",
       " \" I'll Be Waiting (Official Lyric Video)\",\n",
       " ' Easy On Me (Official Lyric Video)',\n",
       " ' Romantic Homicide (Lyrics)',\n",
       " ' Pretty Baby (Official Music Video)',\n",
       " ' ceilings (official video)',\n",
       " ' I Lost You (Lyric Video)',\n",
       " nan,\n",
       " ' Arcade (Lyrics) ft. FLETCHER',\n",
       " ' Nobody Gets Me (Lyric Video)',\n",
       " \" Evergreen (You Didn't Deserve Me At All) [Official Lyric Video]\",\n",
       " ' Those Eyes (Lyrics)',\n",
       " ' i wish you cheated (Official Video)',\n",
       " ' THE LONELIEST (Official Audio with lyrics)',\n",
       " 'Smith - Fingers Crossed (Lyrics)',\n",
       " ' Hold My Hand (From “Top Gun: Maverick”) [Official Music Video]',\n",
       " ' My Fault (Official Visualizer) ft. Noah Cyrus',\n",
       " ' golden hour (Official Lyric Video)',\n",
       " ' Boat [Official Video]',\n",
       " ' Love Me More (Official Music Video)',\n",
       " ' you were there for me (Lyric Video)',\n",
       " ' Perfect (Official Lyric Video)',\n",
       " ' Is There Someone Else? (Audio)',\n",
       " ' Runaway (Lyrics)',\n",
       " ' As The World Caves In (Lyrics)',\n",
       " ' If You Ever Change Your Mind',\n",
       " ' Let Somebody Go (Official Video)',\n",
       " ' The Joker And The Queen (feat. Taylor Swift) [Official Video]',\n",
       " ' Reckless (Official Music Video)',\n",
       " ' Enchanted (Lyrics) \"Please don\\'t be in love with someone else\"',\n",
       " ' Talking To The Moon (Official Lyric Video)',\n",
       " ' feel like shit (Lyrics)',\n",
       " ' drivers license (Lyrics)',\n",
       " ' Break My Heart Again (Official Video)',\n",
       " ' Ghost Town (Official Music Video)',\n",
       " ' I GUESS I’M IN LOVE (Lyrics)',\n",
       " ' Die For You',\n",
       " ' Lift Me Up (From Black Panther: Wakanda Forever)',\n",
       " ' Teenage Dream (Lyric Video)',\n",
       " ' Tattoo (Official Lyric Video)',\n",
       " ' Lonely (Lyrics)',\n",
       " ' Minefields (Lyrics)',\n",
       " \" Here's Your Perfect (with salem ilese) [Official Music Video]\",\n",
       " ' double take (lyrics)',\n",
       " ' Flowers (Demo) Official Audio',\n",
       " ' Leave Me in the Dark (Official Music Video)',\n",
       " ' Death Bed (Lyrics) \"dont stay away for too long\"',\n",
       " ' you broke me first (Lyrics)',\n",
       " ' deja vu (Lyrics)',\n",
       " ' Ghost Town (Lyrics) (TikTok cover) and nothing hurts anymore i feel kinda free',\n",
       " ' i love you (Lyrics)',\n",
       " \" I'm Tired (From “Euphoria” An HBO Original Series – Lyric Video)\",\n",
       " ' Scars (Lyric Video)',\n",
       " ' Into Your Arms (Lyrics) ft. Ava Max - [No Rap]',\n",
       " ' Control (Official Video)',\n",
       " ' Happier Than Ever',\n",
       " ' Courage To Change (from the motion picture Music)',\n",
       " ' Heather (Lyrics)',\n",
       " ' Hurts So Good (Lyric Video)',\n",
       " ' Some Say (Lyrics)',\n",
       " ' Unstoppable (Lyrics)',\n",
       " ' Before You Go (Official Video)',\n",
       " ' Monster',\n",
       " ' Fake A Smile (Lyrics)',\n",
       " ' you were good to me // lyrics',\n",
       " ' Selfish (Official Music Video)',\n",
       " ' This City (Official Video)',\n",
       " ' SLOW DANCING IN THE DARK',\n",
       " ' Memories (Official Video)',\n",
       " ' Roslyn (Lyrics)',\n",
       " ' Rise Up [Official Music Video] [Inspiration Version]',\n",
       " ' Lose You To Love Me (Official Music Video)',\n",
       " ' Dancing With Your Ghost (Lyric Video)',\n",
       " ' Lover (Official Music Video)',\n",
       " ' Let Me Down Slowly (Lyrics)',\n",
       " \" It's You (Official Lyrics Video)\",\n",
       " ' everything i wanted (Official Audio)',\n",
       " ' Birds (Animated Video)',\n",
       " ' Slide Away (Official Video)',\n",
       " ' Shallow (from A Star Is Born) (Official Music Video)',\n",
       " ' Outnumbered (Official Music Video)']"
      ]
     },
     "execution_count": 33,
     "metadata": {},
     "output_type": "execute_result"
    }
   ],
   "source": [
    "# extract the song_title in terms of pattern -song name or –song name\n",
    "df_sad_song[\"song_title1\"]=df_sad_song[\"title\"].str.extract(\"-(.*)\")\n",
    "df_sad_song[\"song_title2\"]=df_sad_song[\"title\"].str.extract(\"–(.*)\")\n",
    "\n",
    "df_sad_song[\"song_title1\"]=df_sad_song[\"song_title1\"].fillna(df_sad_song[\"song_title2\"])\n",
    "   \n",
    "\n",
    "df_sad_song[\"song_title1\"].tolist()\n",
    "\n"
   ]
  },
  {
   "cell_type": "code",
   "execution_count": 34,
   "id": "83a921f5-09a6-4b97-96aa-56ee67cc06eb",
   "metadata": {},
   "outputs": [
    {
     "data": {
      "text/plain": [
       "[' Another Love ',\n",
       " ' Beautiful Things ',\n",
       " ' Train Wreck ',\n",
       " ' Here With Me ',\n",
       " ' Used To Be Young ',\n",
       " ' Fire On Fire ',\n",
       " ' WILDFLOWER ',\n",
       " ' Die With A Smile ',\n",
       " ' What Was I Made For? ',\n",
       " \" Car's Outside \",\n",
       " ' Only Love Can Hurt Like This ',\n",
       " ' Angels Like You ',\n",
       " ' Not You ',\n",
       " ' Wish You The Best ',\n",
       " ' People ',\n",
       " \" It'll Be Okay\",\n",
       " ' DIE FOR YOU ',\n",
       " ' Fade Away ',\n",
       " ' Happiest Year ',\n",
       " ' How Do I Say Goodbye ',\n",
       " \" I'll Be Waiting \",\n",
       " ' Easy On Me ',\n",
       " ' Romantic Homicide ',\n",
       " ' Pretty Baby ',\n",
       " ' ceilings ',\n",
       " ' I Lost You ',\n",
       " nan,\n",
       " ' Arcade ',\n",
       " ' Nobody Gets Me ',\n",
       " ' Evergreen ',\n",
       " ' Those Eyes ',\n",
       " ' i wish you cheated ',\n",
       " ' THE LONELIEST ',\n",
       " 'Smith - Fingers Crossed ',\n",
       " ' Hold My Hand ',\n",
       " ' My Fault ',\n",
       " ' golden hour ',\n",
       " ' Boat ',\n",
       " ' Love Me More ',\n",
       " ' you were there for me ',\n",
       " ' Perfect ',\n",
       " ' Is There Someone Else? ',\n",
       " ' Runaway ',\n",
       " ' As The World Caves In ',\n",
       " ' If You Ever Change Your Mind',\n",
       " ' Let Somebody Go ',\n",
       " ' The Joker And The Queen ',\n",
       " ' Reckless ',\n",
       " ' Enchanted ',\n",
       " ' Talking To The Moon ',\n",
       " ' feel like shit ',\n",
       " ' drivers license ',\n",
       " ' Break My Heart Again ',\n",
       " ' Ghost Town ',\n",
       " ' I GUESS I’M IN LOVE ',\n",
       " ' Die For You',\n",
       " ' Lift Me Up ',\n",
       " ' Teenage Dream ',\n",
       " ' Tattoo ',\n",
       " ' Lonely ',\n",
       " ' Minefields ',\n",
       " \" Here's Your Perfect \",\n",
       " ' double take ',\n",
       " ' Flowers ',\n",
       " ' Leave Me in the Dark ',\n",
       " ' Death Bed ',\n",
       " ' you broke me first ',\n",
       " ' deja vu ',\n",
       " ' Ghost Town (Lyrics) ',\n",
       " ' i love you ',\n",
       " \" I'm Tired \",\n",
       " ' Scars ',\n",
       " ' Into Your Arms ',\n",
       " ' Control ',\n",
       " ' Happier Than Ever',\n",
       " ' Courage To Change ',\n",
       " ' Heather ',\n",
       " ' Hurts So Good ',\n",
       " ' Some Say ',\n",
       " ' Unstoppable ',\n",
       " ' Before You Go ',\n",
       " ' Monster',\n",
       " ' Fake A Smile ',\n",
       " ' you were good to me // lyrics',\n",
       " ' Selfish ',\n",
       " ' This City ',\n",
       " ' SLOW DANCING IN THE DARK',\n",
       " ' Memories ',\n",
       " ' Roslyn ',\n",
       " ' Rise Up [Official Music Video] ',\n",
       " ' Lose You To Love Me ',\n",
       " ' Dancing With Your Ghost ',\n",
       " ' Lover ',\n",
       " ' Let Me Down Slowly ',\n",
       " \" It's You \",\n",
       " ' everything i wanted ',\n",
       " ' Birds ',\n",
       " ' Slide Away ',\n",
       " ' Shallow (from A Star Is Born) ',\n",
       " ' Outnumbered ']"
      ]
     },
     "execution_count": 34,
     "metadata": {},
     "output_type": "execute_result"
    }
   ],
   "source": [
    "# extract the song_title in terms of pattern song title \"(\" or song title\"[\" or song title\n",
    "df_sad_song[\"song_title3\"]=df_sad_song[\"song_title1\"].str.extract(\"(.*)\\[\")\n",
    "df_sad_song[\"song_title4\"]=df_sad_song[\"song_title1\"].str.extract(\"(.*)\")\n",
    "df_sad_song[\"song_title\"]=df_sad_song[\"song_title1\"].str.extract(\"(.*)\\(\")\n",
    "\n",
    "\n",
    "song_title_list=[\"song_title3\",\"song_title4\"]\n",
    "for title in song_title_list:\n",
    "    df_sad_song[\"song_title\"]=df_sad_song[\"song_title\"].fillna(df_sad_song[title])\n",
    "\n",
    "for n in range(1,4):\n",
    "   df_sad_song=df_sad_song.drop(f\"song_title{n}\",axis=1)\n",
    "\n",
    "\n",
    "df_sad_song[\"song_title\"].tolist()\n"
   ]
  },
  {
   "cell_type": "code",
   "execution_count": 35,
   "id": "f038b66e-ccc2-4138-898e-e14414ee0a6a",
   "metadata": {
    "scrolled": true
   },
   "outputs": [
    {
     "data": {
      "text/plain": [
       "26    NaN\n",
       "Name: song_title, dtype: object"
      ]
     },
     "execution_count": 35,
     "metadata": {},
     "output_type": "execute_result"
    }
   ],
   "source": [
    "df_sad_song[\"song_title\"][df_sad_song[\"song_title\"].isnull()]"
   ]
  },
  {
   "cell_type": "code",
   "execution_count": 36,
   "id": "2d175216-0730-45fb-90e3-f688aacb6db8",
   "metadata": {},
   "outputs": [],
   "source": [
    "def check_null_value(df=df_sad_song):\n",
    "    missing_data=df_sad_song.isnull()\n",
    "    for columns in missing_data.columns.values.tolist():\n",
    "        print(missing_data[columns].value_counts())"
   ]
  },
  {
   "cell_type": "code",
   "execution_count": 37,
   "id": "70894527-6753-41a6-b9f4-c266bc6add2e",
   "metadata": {
    "scrolled": true
   },
   "outputs": [
    {
     "name": "stdout",
     "output_type": "stream",
     "text": [
      "title\n",
      "False    100\n",
      "Name: count, dtype: int64\n",
      "id\n",
      "False    100\n",
      "Name: count, dtype: int64\n",
      "channel_title\n",
      "False    100\n",
      "Name: count, dtype: int64\n",
      "date\n",
      "False    100\n",
      "Name: count, dtype: int64\n",
      "viewCount\n",
      "False    100\n",
      "Name: count, dtype: int64\n",
      "likeCount\n",
      "False    100\n",
      "Name: count, dtype: int64\n",
      "commentCount\n",
      "False    100\n",
      "Name: count, dtype: int64\n",
      "musician\n",
      "False    99\n",
      "True      1\n",
      "Name: count, dtype: int64\n",
      "song_title4\n",
      "False    99\n",
      "True      1\n",
      "Name: count, dtype: int64\n",
      "song_title\n",
      "False    99\n",
      "True      1\n",
      "Name: count, dtype: int64\n"
     ]
    }
   ],
   "source": [
    "check_null_value()"
   ]
  },
  {
   "cell_type": "code",
   "execution_count": 38,
   "id": "1a99f712-99ce-450f-b8ee-4c55a2f8e87a",
   "metadata": {},
   "outputs": [],
   "source": [
    "df_sad_song=df_sad_song.drop(\"song_title4\",axis=1)"
   ]
  },
  {
   "cell_type": "code",
   "execution_count": 39,
   "id": "6a6f167b-02ff-4e94-b051-ffa87b0b65e1",
   "metadata": {},
   "outputs": [
    {
     "data": {
      "text/html": [
       "<div>\n",
       "<style scoped>\n",
       "    .dataframe tbody tr th:only-of-type {\n",
       "        vertical-align: middle;\n",
       "    }\n",
       "\n",
       "    .dataframe tbody tr th {\n",
       "        vertical-align: top;\n",
       "    }\n",
       "\n",
       "    .dataframe thead th {\n",
       "        text-align: right;\n",
       "    }\n",
       "</style>\n",
       "<table border=\"1\" class=\"dataframe\">\n",
       "  <thead>\n",
       "    <tr style=\"text-align: right;\">\n",
       "      <th></th>\n",
       "      <th>title</th>\n",
       "      <th>id</th>\n",
       "      <th>channel_title</th>\n",
       "      <th>date</th>\n",
       "      <th>viewCount</th>\n",
       "      <th>likeCount</th>\n",
       "      <th>commentCount</th>\n",
       "      <th>musician</th>\n",
       "      <th>song_title</th>\n",
       "    </tr>\n",
       "  </thead>\n",
       "  <tbody>\n",
       "    <tr>\n",
       "      <th>26</th>\n",
       "      <td>this is what losing someone feels like (offici...</td>\n",
       "      <td>LYLbf7KlQb8</td>\n",
       "      <td>JVKE</td>\n",
       "      <td>2023-03-31T23:32:49Z</td>\n",
       "      <td>6559717</td>\n",
       "      <td>146197</td>\n",
       "      <td>10111</td>\n",
       "      <td>NaN</td>\n",
       "      <td>NaN</td>\n",
       "    </tr>\n",
       "  </tbody>\n",
       "</table>\n",
       "</div>"
      ],
      "text/plain": [
       "                                                title           id  \\\n",
       "26  this is what losing someone feels like (offici...  LYLbf7KlQb8   \n",
       "\n",
       "   channel_title                  date viewCount likeCount commentCount  \\\n",
       "26          JVKE  2023-03-31T23:32:49Z   6559717    146197        10111   \n",
       "\n",
       "   musician song_title  \n",
       "26      NaN        NaN  "
      ]
     },
     "execution_count": 39,
     "metadata": {},
     "output_type": "execute_result"
    }
   ],
   "source": [
    "# no musician in the title\n",
    "df_sad_song[df_sad_song[\"musician\"].isnull()]"
   ]
  },
  {
   "cell_type": "code",
   "execution_count": 50,
   "id": "56be2243-182f-462e-ac7b-9236803271f6",
   "metadata": {
    "scrolled": true
   },
   "outputs": [
    {
     "data": {
      "text/html": [
       "<div>\n",
       "<style scoped>\n",
       "    .dataframe tbody tr th:only-of-type {\n",
       "        vertical-align: middle;\n",
       "    }\n",
       "\n",
       "    .dataframe tbody tr th {\n",
       "        vertical-align: top;\n",
       "    }\n",
       "\n",
       "    .dataframe thead th {\n",
       "        text-align: right;\n",
       "    }\n",
       "</style>\n",
       "<table border=\"1\" class=\"dataframe\">\n",
       "  <thead>\n",
       "    <tr style=\"text-align: right;\">\n",
       "      <th></th>\n",
       "      <th>title</th>\n",
       "      <th>id</th>\n",
       "      <th>channel_title</th>\n",
       "      <th>date</th>\n",
       "      <th>viewCount</th>\n",
       "      <th>likeCount</th>\n",
       "      <th>commentCount</th>\n",
       "      <th>musician</th>\n",
       "      <th>song_title</th>\n",
       "    </tr>\n",
       "  </thead>\n",
       "  <tbody>\n",
       "    <tr>\n",
       "      <th>26</th>\n",
       "      <td>this is what losing someone feels like (offici...</td>\n",
       "      <td>LYLbf7KlQb8</td>\n",
       "      <td>JVKE</td>\n",
       "      <td>2023-03-31T23:32:49Z</td>\n",
       "      <td>6559717</td>\n",
       "      <td>146197</td>\n",
       "      <td>10111</td>\n",
       "      <td>NaN</td>\n",
       "      <td>NaN</td>\n",
       "    </tr>\n",
       "  </tbody>\n",
       "</table>\n",
       "</div>"
      ],
      "text/plain": [
       "                                                title           id  \\\n",
       "26  this is what losing someone feels like (offici...  LYLbf7KlQb8   \n",
       "\n",
       "   channel_title                  date viewCount likeCount commentCount  \\\n",
       "26          JVKE  2023-03-31T23:32:49Z   6559717    146197        10111   \n",
       "\n",
       "   musician song_title  \n",
       "26      NaN        NaN  "
      ]
     },
     "execution_count": 50,
     "metadata": {},
     "output_type": "execute_result"
    }
   ],
   "source": [
    "df_sad_song[df_sad_song[\"song_title\"].isnull()]"
   ]
  },
  {
   "cell_type": "code",
   "execution_count": 53,
   "id": "c8de7cec-aac5-41db-9ddf-c50c3a3581ee",
   "metadata": {},
   "outputs": [],
   "source": [
    "df_sad_song[\"musician\"]=df_sad_song[\"musician\"].fillna(\"JVKE\")\n",
    "df_sad_song[\"song_title\"]=df_sad_song[\"song_title\"].fillna(\"this is what losing someone feels like\")"
   ]
  },
  {
   "cell_type": "code",
   "execution_count": 54,
   "id": "4992e22a-f08f-432e-8fcf-9a4bef17405e",
   "metadata": {},
   "outputs": [
    {
     "data": {
      "text/html": [
       "<div>\n",
       "<style scoped>\n",
       "    .dataframe tbody tr th:only-of-type {\n",
       "        vertical-align: middle;\n",
       "    }\n",
       "\n",
       "    .dataframe tbody tr th {\n",
       "        vertical-align: top;\n",
       "    }\n",
       "\n",
       "    .dataframe thead th {\n",
       "        text-align: right;\n",
       "    }\n",
       "</style>\n",
       "<table border=\"1\" class=\"dataframe\">\n",
       "  <thead>\n",
       "    <tr style=\"text-align: right;\">\n",
       "      <th></th>\n",
       "      <th>title</th>\n",
       "      <th>id</th>\n",
       "      <th>channel_title</th>\n",
       "      <th>date</th>\n",
       "      <th>viewCount</th>\n",
       "      <th>likeCount</th>\n",
       "      <th>commentCount</th>\n",
       "      <th>musician</th>\n",
       "      <th>song_title</th>\n",
       "    </tr>\n",
       "  </thead>\n",
       "  <tbody>\n",
       "  </tbody>\n",
       "</table>\n",
       "</div>"
      ],
      "text/plain": [
       "Empty DataFrame\n",
       "Columns: [title, id, channel_title, date, viewCount, likeCount, commentCount, musician, song_title]\n",
       "Index: []"
      ]
     },
     "execution_count": 54,
     "metadata": {},
     "output_type": "execute_result"
    }
   ],
   "source": [
    "df_sad_song[df_sad_song[\"song_title\"].isnull()]"
   ]
  },
  {
   "cell_type": "code",
   "execution_count": 55,
   "id": "5ff30bb0-024a-4f7d-870e-ec227ee676c2",
   "metadata": {},
   "outputs": [],
   "source": [
    "def standard_date(Time):\n",
    "    Time=Time.replace(\"T\",\" \")\n",
    "    Time=Time.replace(\"Z\",\"\")\n",
    "    Time=datetime.datetime.strptime(Time,\"%Y-%m-%d %H:%M:%S\")\n",
    "    return Time"
   ]
  },
  {
   "cell_type": "code",
   "execution_count": 56,
   "id": "c1703e85-2c19-4228-bfb0-0d563e82fd9f",
   "metadata": {},
   "outputs": [],
   "source": [
    "df_sad_song[\"date\"]=df_sad_song[\"date\"].apply(standard_date)"
   ]
  },
  {
   "cell_type": "code",
   "execution_count": 57,
   "id": "7c44e957-d21a-4548-b3e2-55ae576e33e5",
   "metadata": {},
   "outputs": [],
   "source": [
    "df_sad_song['Year'] = df_sad_song['date'].dt.year    "
   ]
  },
  {
   "cell_type": "code",
   "execution_count": 58,
   "id": "1ff35154-d0c9-48e9-ad54-deeb081810cf",
   "metadata": {},
   "outputs": [],
   "source": [
    "# drop the null value\n",
    "df_sad_song=df_sad_song.dropna(axis=0).reset_index(drop=True)"
   ]
  },
  {
   "cell_type": "code",
   "execution_count": 59,
   "id": "d7375029-867f-454e-b2c1-ed5fb6895965",
   "metadata": {},
   "outputs": [
    {
     "data": {
      "text/html": [
       "<div>\n",
       "<style scoped>\n",
       "    .dataframe tbody tr th:only-of-type {\n",
       "        vertical-align: middle;\n",
       "    }\n",
       "\n",
       "    .dataframe tbody tr th {\n",
       "        vertical-align: top;\n",
       "    }\n",
       "\n",
       "    .dataframe thead th {\n",
       "        text-align: right;\n",
       "    }\n",
       "</style>\n",
       "<table border=\"1\" class=\"dataframe\">\n",
       "  <thead>\n",
       "    <tr style=\"text-align: right;\">\n",
       "      <th></th>\n",
       "      <th>title</th>\n",
       "      <th>id</th>\n",
       "      <th>channel_title</th>\n",
       "      <th>date</th>\n",
       "      <th>viewCount</th>\n",
       "      <th>likeCount</th>\n",
       "      <th>commentCount</th>\n",
       "      <th>musician</th>\n",
       "      <th>song_title</th>\n",
       "      <th>Year</th>\n",
       "    </tr>\n",
       "  </thead>\n",
       "  <tbody>\n",
       "    <tr>\n",
       "      <th>0</th>\n",
       "      <td>Tom Odell - Another Love (Lyrics)</td>\n",
       "      <td>Jkj36B1YuDU</td>\n",
       "      <td>7clouds</td>\n",
       "      <td>2020-09-05 19:11:17</td>\n",
       "      <td>295250766</td>\n",
       "      <td>2984182</td>\n",
       "      <td>75483</td>\n",
       "      <td>Tom Odell</td>\n",
       "      <td>Another Love</td>\n",
       "      <td>2020</td>\n",
       "    </tr>\n",
       "    <tr>\n",
       "      <th>1</th>\n",
       "      <td>Benson Boone - Beautiful Things (Official Musi...</td>\n",
       "      <td>Oa_RSwwpPaA</td>\n",
       "      <td>Benson Boone</td>\n",
       "      <td>2024-01-18 23:00:13</td>\n",
       "      <td>451253770</td>\n",
       "      <td>4077315</td>\n",
       "      <td>89238</td>\n",
       "      <td>Benson Boone</td>\n",
       "      <td>Beautiful Things</td>\n",
       "      <td>2024</td>\n",
       "    </tr>\n",
       "    <tr>\n",
       "      <th>2</th>\n",
       "      <td>James Arthur - Train Wreck (Lyrics)</td>\n",
       "      <td>CveANi17YfU</td>\n",
       "      <td>Lazy Fox</td>\n",
       "      <td>2020-09-08 15:40:52</td>\n",
       "      <td>265609174</td>\n",
       "      <td>2338276</td>\n",
       "      <td>58810</td>\n",
       "      <td>James Arthur</td>\n",
       "      <td>Train Wreck</td>\n",
       "      <td>2020</td>\n",
       "    </tr>\n",
       "    <tr>\n",
       "      <th>3</th>\n",
       "      <td>d4vd - Here With Me (Official Audio)</td>\n",
       "      <td>B7Y4LHbpXv0</td>\n",
       "      <td>d4vd</td>\n",
       "      <td>2022-07-18 17:31:19</td>\n",
       "      <td>116828268</td>\n",
       "      <td>868085</td>\n",
       "      <td>10933</td>\n",
       "      <td>d4vd</td>\n",
       "      <td>Here With Me</td>\n",
       "      <td>2022</td>\n",
       "    </tr>\n",
       "    <tr>\n",
       "      <th>4</th>\n",
       "      <td>Miley Cyrus - Used To Be Young (Official Video)</td>\n",
       "      <td>IZ3XMOdOdKM</td>\n",
       "      <td>MileyCyrusVEVO</td>\n",
       "      <td>2023-08-25 04:00:11</td>\n",
       "      <td>67690332</td>\n",
       "      <td>1281424</td>\n",
       "      <td>44587</td>\n",
       "      <td>Miley Cyrus</td>\n",
       "      <td>Used To Be Young</td>\n",
       "      <td>2023</td>\n",
       "    </tr>\n",
       "    <tr>\n",
       "      <th>...</th>\n",
       "      <td>...</td>\n",
       "      <td>...</td>\n",
       "      <td>...</td>\n",
       "      <td>...</td>\n",
       "      <td>...</td>\n",
       "      <td>...</td>\n",
       "      <td>...</td>\n",
       "      <td>...</td>\n",
       "      <td>...</td>\n",
       "      <td>...</td>\n",
       "    </tr>\n",
       "    <tr>\n",
       "      <th>95</th>\n",
       "      <td>Billie Eilish - everything i wanted (Official ...</td>\n",
       "      <td>qCTMq7xvdXU</td>\n",
       "      <td>BillieEilishVEVO</td>\n",
       "      <td>2019-11-14 00:00:12</td>\n",
       "      <td>204177568</td>\n",
       "      <td>2957984</td>\n",
       "      <td>123869</td>\n",
       "      <td>Billie Eilish</td>\n",
       "      <td>everything i wanted</td>\n",
       "      <td>2019</td>\n",
       "    </tr>\n",
       "    <tr>\n",
       "      <th>96</th>\n",
       "      <td>Imagine Dragons - Birds (Animated Video)</td>\n",
       "      <td>vOXZkm9p_zY</td>\n",
       "      <td>ImagineDragonsVEVO</td>\n",
       "      <td>2019-07-24 04:00:04</td>\n",
       "      <td>309277581</td>\n",
       "      <td>2930219</td>\n",
       "      <td>54681</td>\n",
       "      <td>Imagine Dragons</td>\n",
       "      <td>Birds</td>\n",
       "      <td>2019</td>\n",
       "    </tr>\n",
       "    <tr>\n",
       "      <th>97</th>\n",
       "      <td>Miley Cyrus - Slide Away (Official Video)</td>\n",
       "      <td>rrvFv6j3-sM</td>\n",
       "      <td>MileyCyrusVEVO</td>\n",
       "      <td>2019-09-06 16:00:12</td>\n",
       "      <td>60471242</td>\n",
       "      <td>967497</td>\n",
       "      <td>33659</td>\n",
       "      <td>Miley Cyrus</td>\n",
       "      <td>Slide Away</td>\n",
       "      <td>2019</td>\n",
       "    </tr>\n",
       "    <tr>\n",
       "      <th>98</th>\n",
       "      <td>Lady Gaga, Bradley Cooper - Shallow (from A St...</td>\n",
       "      <td>bo_efYhYU2A</td>\n",
       "      <td>LadyGagaVEVO</td>\n",
       "      <td>2018-09-27 16:30:01</td>\n",
       "      <td>1727230193</td>\n",
       "      <td>8429618</td>\n",
       "      <td>207413</td>\n",
       "      <td>Lady Gaga, Bradley Cooper</td>\n",
       "      <td>Shallow (from A Star Is Born)</td>\n",
       "      <td>2018</td>\n",
       "    </tr>\n",
       "    <tr>\n",
       "      <th>99</th>\n",
       "      <td>Dermot Kennedy - Outnumbered (Official Music V...</td>\n",
       "      <td>A48hOToMuRE</td>\n",
       "      <td>DermotKennedyVEVO</td>\n",
       "      <td>2019-07-08 13:58:12</td>\n",
       "      <td>68824009</td>\n",
       "      <td>374212</td>\n",
       "      <td>9548</td>\n",
       "      <td>Dermot Kennedy</td>\n",
       "      <td>Outnumbered</td>\n",
       "      <td>2019</td>\n",
       "    </tr>\n",
       "  </tbody>\n",
       "</table>\n",
       "<p>100 rows × 10 columns</p>\n",
       "</div>"
      ],
      "text/plain": [
       "                                                title           id  \\\n",
       "0                   Tom Odell - Another Love (Lyrics)  Jkj36B1YuDU   \n",
       "1   Benson Boone - Beautiful Things (Official Musi...  Oa_RSwwpPaA   \n",
       "2                 James Arthur - Train Wreck (Lyrics)  CveANi17YfU   \n",
       "3                d4vd - Here With Me (Official Audio)  B7Y4LHbpXv0   \n",
       "4     Miley Cyrus - Used To Be Young (Official Video)  IZ3XMOdOdKM   \n",
       "..                                                ...          ...   \n",
       "95  Billie Eilish - everything i wanted (Official ...  qCTMq7xvdXU   \n",
       "96           Imagine Dragons - Birds (Animated Video)  vOXZkm9p_zY   \n",
       "97          Miley Cyrus - Slide Away (Official Video)  rrvFv6j3-sM   \n",
       "98  Lady Gaga, Bradley Cooper - Shallow (from A St...  bo_efYhYU2A   \n",
       "99  Dermot Kennedy - Outnumbered (Official Music V...  A48hOToMuRE   \n",
       "\n",
       "         channel_title                date   viewCount likeCount commentCount  \\\n",
       "0              7clouds 2020-09-05 19:11:17   295250766   2984182        75483   \n",
       "1         Benson Boone 2024-01-18 23:00:13   451253770   4077315        89238   \n",
       "2             Lazy Fox 2020-09-08 15:40:52   265609174   2338276        58810   \n",
       "3                 d4vd 2022-07-18 17:31:19   116828268    868085        10933   \n",
       "4       MileyCyrusVEVO 2023-08-25 04:00:11    67690332   1281424        44587   \n",
       "..                 ...                 ...         ...       ...          ...   \n",
       "95    BillieEilishVEVO 2019-11-14 00:00:12   204177568   2957984       123869   \n",
       "96  ImagineDragonsVEVO 2019-07-24 04:00:04   309277581   2930219        54681   \n",
       "97      MileyCyrusVEVO 2019-09-06 16:00:12    60471242    967497        33659   \n",
       "98        LadyGagaVEVO 2018-09-27 16:30:01  1727230193   8429618       207413   \n",
       "99   DermotKennedyVEVO 2019-07-08 13:58:12    68824009    374212         9548   \n",
       "\n",
       "                      musician                       song_title  Year  \n",
       "0                   Tom Odell                     Another Love   2020  \n",
       "1                Benson Boone                 Beautiful Things   2024  \n",
       "2                James Arthur                      Train Wreck   2020  \n",
       "3                        d4vd                     Here With Me   2022  \n",
       "4                 Miley Cyrus                 Used To Be Young   2023  \n",
       "..                         ...                              ...   ...  \n",
       "95              Billie Eilish              everything i wanted   2019  \n",
       "96            Imagine Dragons                            Birds   2019  \n",
       "97                Miley Cyrus                       Slide Away   2019  \n",
       "98  Lady Gaga, Bradley Cooper    Shallow (from A Star Is Born)   2018  \n",
       "99             Dermot Kennedy                      Outnumbered   2019  \n",
       "\n",
       "[100 rows x 10 columns]"
      ]
     },
     "execution_count": 59,
     "metadata": {},
     "output_type": "execute_result"
    }
   ],
   "source": [
    "df_sad_song"
   ]
  },
  {
   "cell_type": "code",
   "execution_count": 60,
   "id": "ec06935b-c46e-4c7c-a7c2-fa2d16034eb3",
   "metadata": {},
   "outputs": [],
   "source": [
    "#check the duplicates\n",
    "def check_duplicates_values():\n",
    "    for column in df_sad_song.columns:\n",
    "        duplicates=df_sad_song[df_sad_song[column].duplicated()]\n",
    "    return column,duplicates"
   ]
  },
  {
   "cell_type": "code",
   "execution_count": 61,
   "id": "49bde93e-b640-4efa-9402-82d073176cec",
   "metadata": {
    "scrolled": true
   },
   "outputs": [
    {
     "data": {
      "text/plain": [
       "('Year',\n",
       "                                                 title           id  \\\n",
       " 2                 James Arthur - Train Wreck (Lyrics)  CveANi17YfU   \n",
       " 6                 Billie Eilish - WILDFLOWER (Lyrics)  QkVI2n7-60c   \n",
       " 7   Lady Gaga, Bruno Mars - Die With A Smile (Offi...  kPa7bsKwL-c   \n",
       " 8   Billie Eilish - What Was I Made For? (Official...  cW8VLC9nnTo   \n",
       " 9               James Arthur - Car's Outside (Lyrics)  xUT3ZcbVWmQ   \n",
       " ..                                                ...          ...   \n",
       " 95  Billie Eilish - everything i wanted (Official ...  qCTMq7xvdXU   \n",
       " 96           Imagine Dragons - Birds (Animated Video)  vOXZkm9p_zY   \n",
       " 97          Miley Cyrus - Slide Away (Official Video)  rrvFv6j3-sM   \n",
       " 98  Lady Gaga, Bradley Cooper - Shallow (from A St...  bo_efYhYU2A   \n",
       " 99  Dermot Kennedy - Outnumbered (Official Music V...  A48hOToMuRE   \n",
       " \n",
       "          channel_title                date   viewCount likeCount commentCount  \\\n",
       " 2             Lazy Fox 2020-09-08 15:40:52   265609174   2338276        58810   \n",
       " 6           Iyan Music 2024-05-17 04:06:20     3502941     24125          263   \n",
       " 7         LadyGagaVEVO 2024-08-16 04:00:36   503309668   6647851       218833   \n",
       " 8     BillieEilishVEVO 2023-07-13 14:00:10   192419597   3073022        91037   \n",
       " 9            Dan Music 2022-08-15 13:10:57   154503312    791665         7575   \n",
       " ..                 ...                 ...         ...       ...          ...   \n",
       " 95    BillieEilishVEVO 2019-11-14 00:00:12   204177568   2957984       123869   \n",
       " 96  ImagineDragonsVEVO 2019-07-24 04:00:04   309277581   2930219        54681   \n",
       " 97      MileyCyrusVEVO 2019-09-06 16:00:12    60471242    967497        33659   \n",
       " 98        LadyGagaVEVO 2018-09-27 16:30:01  1727230193   8429618       207413   \n",
       " 99   DermotKennedyVEVO 2019-07-08 13:58:12    68824009    374212         9548   \n",
       " \n",
       "                       musician                       song_title  Year  \n",
       " 2                James Arthur                      Train Wreck   2020  \n",
       " 6               Billie Eilish                       WILDFLOWER   2024  \n",
       " 7       Lady Gaga, Bruno Mars                 Die With A Smile   2024  \n",
       " 8               Billie Eilish             What Was I Made For?   2023  \n",
       " 9                James Arthur                    Car's Outside   2022  \n",
       " ..                         ...                              ...   ...  \n",
       " 95              Billie Eilish              everything i wanted   2019  \n",
       " 96            Imagine Dragons                            Birds   2019  \n",
       " 97                Miley Cyrus                       Slide Away   2019  \n",
       " 98  Lady Gaga, Bradley Cooper    Shallow (from A Star Is Born)   2018  \n",
       " 99             Dermot Kennedy                      Outnumbered   2019  \n",
       " \n",
       " [92 rows x 10 columns])"
      ]
     },
     "execution_count": 61,
     "metadata": {},
     "output_type": "execute_result"
    }
   ],
   "source": [
    "check_duplicates_values()"
   ]
  },
  {
   "cell_type": "code",
   "execution_count": 62,
   "id": "5e87c06d-a1a1-4a9f-9848-176bcc657e42",
   "metadata": {},
   "outputs": [],
   "source": [
    "df_sad_song.to_csv(\"sad_song_ytvideo_statistics.csv\",index=False)\n"
   ]
  },
  {
   "cell_type": "code",
   "execution_count": null,
   "id": "79386cbe-b355-4e9f-8977-5ff9e15c4815",
   "metadata": {},
   "outputs": [],
   "source": []
  },
  {
   "cell_type": "code",
   "execution_count": null,
   "id": "c5364a1b-0159-4f3d-9e37-cb4795e2afd7",
   "metadata": {},
   "outputs": [],
   "source": []
  },
  {
   "cell_type": "code",
   "execution_count": null,
   "id": "bcdbe4e5-5b27-41f6-aabb-f2711a2e1cbc",
   "metadata": {},
   "outputs": [],
   "source": []
  }
 ],
 "metadata": {
  "kernelspec": {
   "display_name": "Python 3 (ipykernel)",
   "language": "python",
   "name": "python3"
  },
  "language_info": {
   "codemirror_mode": {
    "name": "ipython",
    "version": 3
   },
   "file_extension": ".py",
   "mimetype": "text/x-python",
   "name": "python",
   "nbconvert_exporter": "python",
   "pygments_lexer": "ipython3",
   "version": "3.11.7"
  }
 },
 "nbformat": 4,
 "nbformat_minor": 5
}
